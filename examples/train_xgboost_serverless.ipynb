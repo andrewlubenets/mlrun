{
 "cells": [
  {
   "cell_type": "markdown",
   "metadata": {},
   "source": [
    "# Train XGboost Model With Hyper-Params Using Serverless Functions"
   ]
  },
  {
   "cell_type": "code",
   "execution_count": 1,
   "metadata": {},
   "outputs": [],
   "source": [
    "# nuclio: ignore\n",
    "import nuclio"
   ]
  },
  {
   "cell_type": "code",
   "execution_count": null,
   "metadata": {},
   "outputs": [],
   "source": [
    "%%nuclio cmd \n",
    "pip install sklearn\n",
    "pip install xgboost\n",
    "pip install git+https://github.com/mlrun/mlrun.git@development"
   ]
  },
  {
   "cell_type": "code",
   "execution_count": 2,
   "metadata": {},
   "outputs": [
    {
     "name": "stdout",
     "output_type": "stream",
     "text": [
      "%nuclio: setting spec.build.baseImage to 'python:3.6-jessie'\n"
     ]
    }
   ],
   "source": [
    "%nuclio config spec.build.baseImage = \"python:3.6-jessie\""
   ]
  },
  {
   "cell_type": "code",
   "execution_count": 3,
   "metadata": {},
   "outputs": [],
   "source": [
    "import xgboost as xgb\n",
    "import os\n",
    "from sklearn.datasets import load_iris\n",
    "from sklearn.model_selection import train_test_split\n",
    "import numpy as np\n",
    "from sklearn.metrics import accuracy_score\n",
    "\n",
    "dtrain = dtest = Y_test = None\n",
    "\n",
    "def load_dataset():\n",
    "    global dtrain, dtest, Y_test\n",
    "    iris = load_iris()\n",
    "    y = iris['target']\n",
    "    X = iris['data']\n",
    "    X_train, X_test, Y_train, Y_test = train_test_split(X, y, test_size=0.2)\n",
    "    dtrain = xgb.DMatrix(X_train, label=Y_train)\n",
    "    dtest = xgb.DMatrix(X_test, label=Y_test)\n",
    "\n",
    "\n",
    "def xgb_train(context, model_name='iris_v1.bst',\n",
    "            max_depth=6,\n",
    "            num_class=10,\n",
    "            eta=0.2,\n",
    "            gamma=0.1,\n",
    "            steps=20):\n",
    "    global dtrain, dtest, Y_test\n",
    "\n",
    "    if dtrain is None:\n",
    "        load_dataset()\n",
    "\n",
    "    # Get params from event\n",
    "    param = {\"max_depth\": max_depth,\n",
    "             \"eta\": eta, \"nthread\": 4,\n",
    "             \"num_class\": num_class,\n",
    "             \"gamma\": gamma,\n",
    "             \"objective\": \"multi:softprob\"}\n",
    "\n",
    "    # Train model\n",
    "    xgb_model = xgb.train(param, dtrain, steps)\n",
    "\n",
    "    preds = xgb_model.predict(dtest)\n",
    "    best_preds = np.asarray([np.argmax(line) for line in preds])\n",
    "\n",
    "    context.log_result('accuracy', float(accuracy_score(Y_test, best_preds)))\n",
    "\n",
    "    os.makedirs('models', exist_ok=True)\n",
    "    model_file = model_name #os.path.join('models', model_name)\n",
    "    xgb_model.save_model(model_file)\n",
    "    context.log_artifact('model', src_path=model_file, labels={'framework': 'xgboost'})\n",
    "\n",
    "def dummy(context, x=5):\n",
    "    return 'xxx {}'.format(x)"
   ]
  },
  {
   "cell_type": "markdown",
   "metadata": {},
   "source": [
    "## Import MLRUN, and run the training locally"
   ]
  },
  {
   "cell_type": "code",
   "execution_count": 1,
   "metadata": {},
   "outputs": [
    {
     "name": "stdout",
     "output_type": "stream",
     "text": [
      "env: MLRUN_DBPATH=/User/mlrun\n"
     ]
    }
   ],
   "source": [
    "# nuclio: end-code\n",
    "# set mlrun db path (can also be specified in run_start command)\n",
    "%env MLRUN_DBPATH=/User/mlrun\n",
    "from mlrun import new_function, code_to_function, NewRun"
   ]
  },
  {
   "cell_type": "markdown",
   "metadata": {},
   "source": [
    "### Define a Task, with Hyper parameters (GridSearch)"
   ]
  },
  {
   "cell_type": "code",
   "execution_count": 6,
   "metadata": {},
   "outputs": [],
   "source": [
    "# test our function locally with multiple parameters\n",
    "parameters = {\n",
    "     \"eta\":       [0.05, 0.10, 0.20, 0.30],\n",
    "     \"max_depth\": [3, 4, 5, 6, 8, 10],\n",
    "     \"gamma\":     [0.0, 0.1, 0.2, 0.3],\n",
    "     }\n",
    "\n",
    "task = NewRun(handler=xgb_train, out_path='/User/mlrun/data').with_hyper_params(parameters, 'max.accuracy')"
   ]
  },
  {
   "cell_type": "code",
   "execution_count": 7,
   "metadata": {},
   "outputs": [
    {
     "name": "stdout",
     "output_type": "stream",
     "text": [
      "[mlrun] 2019-09-15 22:04:45,274 starting run None uid=8207961672e2481197020e588abf9cf3\n"
     ]
    },
    {
     "data": {
      "text/html": [
       "<style> \n",
       ".dictlist {\n",
       "  background-color: #b3edff; \n",
       "  text-align: center; \n",
       "  margin: 4px; \n",
       "  border-radius: 3px; padding: 0px 3px 1px 3px; display: inline-block;}\n",
       ".artifact {\n",
       "  cursor: pointer; \n",
       "  background-color: #ffe6cc; \n",
       "  text-align: left; \n",
       "  margin: 4px; border-radius: 3px; padding: 0px 3px 1px 3px; display: inline-block;\n",
       "}\n",
       "div.block.hidden {\n",
       "  display: none;\n",
       "}\n",
       ".clickable {\n",
       "  cursor: pointer;\n",
       "}\n",
       ".ellipsis {\n",
       "  display: inline-block;\n",
       "  max-width: 60px;\n",
       "  white-space: nowrap;\n",
       "  overflow: hidden;\n",
       "  text-overflow: ellipsis;\n",
       "}\n",
       ".master-wrapper {\n",
       "  display: flex;\n",
       "  flex-flow: row nowrap;\n",
       "  justify-content: flex-start;\n",
       "  align-items: stretch;\n",
       "}\n",
       ".master-tbl {\n",
       "  flex: 3\n",
       "}\n",
       ".master-wrapper > div {\n",
       "  margin: 4px;\n",
       "  padding: 10px;\n",
       "}\n",
       "iframe.fileview {\n",
       "  border: 0 none;\n",
       "  height: 100%;\n",
       "  width: 100%;\n",
       "  white-space: pre-wrap;\n",
       "}\n",
       ".pane-header-title {\n",
       "  width: 80%;\n",
       "  font-weight: 500;\n",
       "}\n",
       ".pane-header {\n",
       "  line-height: 1;\n",
       "  background-color: #ffe6cc;\n",
       "  padding: 3px;\n",
       "}\n",
       ".pane-header .close {\n",
       "  font-size: 20px;\n",
       "  font-weight: 700;\n",
       "  float: right;\n",
       "  margin-top: -5px;\n",
       "}\n",
       ".master-wrapper .right-pane {\n",
       "  border: 1px inset silver;\n",
       "  width: 40%;\n",
       "  min-height: 300px;\n",
       "  flex: 3\n",
       "  min-width: 500px;\n",
       "}\n",
       ".master-wrapper * {\n",
       "  box-sizing: border-box;\n",
       "}\n",
       "</style><script>\n",
       "function copyToClipboard(fld) {\n",
       "    if (document.queryCommandSupported && document.queryCommandSupported('copy')) {\n",
       "        var textarea = document.createElement('textarea');\n",
       "        textarea.textContent = fld.innerHTML;\n",
       "        textarea.style.position = 'fixed';\n",
       "        document.body.appendChild(textarea);\n",
       "        textarea.select();\n",
       "\n",
       "        try {\n",
       "            return document.execCommand('copy'); // Security exception may be thrown by some browsers.\n",
       "        } catch (ex) {\n",
       "\n",
       "        } finally {\n",
       "            document.body.removeChild(textarea);\n",
       "        }\n",
       "    }\n",
       "}\n",
       "function expandPanel(el) {\n",
       "  const panelName = \"#\" + el.getAttribute('paneName');\n",
       "  console.log(el.title);\n",
       "\n",
       "  document.querySelector(panelName + \"-title\").innerHTML = el.title\n",
       "  iframe = document.querySelector(panelName + \"-body\");\n",
       "  \n",
       "  const tblcss = `<style> body { font-family: Arial, Helvetica, sans-serif;}\n",
       "    #csv { margin-bottom: 15px; }\n",
       "    #csv table { border-collapse: collapse;}\n",
       "    #csv table td { padding: 4px 8px; border: 1px solid silver;} </style>`;\n",
       "\n",
       "  function csvToHtmlTable(str) {\n",
       "    return '<div id=\"csv\"><table><tr><td>' +  str.replace(/[\\n\\r]+$/g, '').replace(/[\\n\\r]+/g, '</td></tr><tr><td>')\n",
       "      .replace(/,/g, '</td><td>') + '</td></tr></table></div>';\n",
       "  }\n",
       "  \n",
       "  function reqListener () {\n",
       "    if (el.title.endsWith(\".csv\")) {\n",
       "      iframe.setAttribute(\"srcdoc\", tblcss + csvToHtmlTable(this.responseText));\n",
       "    } else {\n",
       "      iframe.setAttribute(\"srcdoc\", this.responseText);\n",
       "    }  \n",
       "    console.log(this.responseText);\n",
       "  }\n",
       "\n",
       "  const oReq = new XMLHttpRequest();\n",
       "  oReq.addEventListener(\"load\", reqListener);\n",
       "  oReq.open(\"GET\", el.title);\n",
       "  oReq.send();\n",
       "  \n",
       "  \n",
       "  //iframe.src = el.title;\n",
       "  const resultPane = document.querySelector(panelName + \"-pane\");\n",
       "  if (resultPane.classList.contains(\"hidden\")) {\n",
       "    resultPane.classList.remove(\"hidden\");\n",
       "  }\n",
       "}\n",
       "function closePanel(el) {\n",
       "  const panelName = \"#\" + el.getAttribute('paneName')\n",
       "  const resultPane = document.querySelector(panelName + \"-pane\");\n",
       "  if (!resultPane.classList.contains(\"hidden\")) {\n",
       "    resultPane.classList.add(\"hidden\");\n",
       "  }\n",
       "}\n",
       "\n",
       "</script>\n",
       "<div class=\"master-wrapper\">\n",
       "  <div class=\"block master-tbl\"><div>\n",
       "<style scoped>\n",
       "    .dataframe tbody tr th:only-of-type {\n",
       "        vertical-align: middle;\n",
       "    }\n",
       "\n",
       "    .dataframe tbody tr th {\n",
       "        vertical-align: top;\n",
       "    }\n",
       "\n",
       "    .dataframe thead th {\n",
       "        text-align: right;\n",
       "    }\n",
       "</style>\n",
       "<table border=\"1\" class=\"dataframe\">\n",
       "  <thead>\n",
       "    <tr style=\"text-align: right;\">\n",
       "      <th>uid</th>\n",
       "      <th>iter</th>\n",
       "      <th>start</th>\n",
       "      <th>state</th>\n",
       "      <th>name</th>\n",
       "      <th>labels</th>\n",
       "      <th>inputs</th>\n",
       "      <th>parameters</th>\n",
       "      <th>results</th>\n",
       "      <th>artifacts</th>\n",
       "    </tr>\n",
       "  </thead>\n",
       "  <tbody>\n",
       "    <tr>\n",
       "      <td><div title=\"8207961672e2481197020e588abf9cf3\">...bf9cf3</div></td>\n",
       "      <td>0</td>\n",
       "      <td>Sep 15 22:04:45</td>\n",
       "      <td>completed</td>\n",
       "      <td></td>\n",
       "      <td><div class=\"dictlist\">kind=handler</div><div class=\"dictlist\">owner=iguazio</div></td>\n",
       "      <td></td>\n",
       "      <td></td>\n",
       "      <td><div class=\"dictlist\">best_iteration=1</div><div class=\"dictlist\">accuracy=0.9666666666666667</div></td>\n",
       "      <td><div title=\"/User/mlrun/data/1/iris_v1.bst\">model</div><div class=\"artifact\" onclick=\"expandPanel(this)\" paneName=\"result18e2d9a8\" title=\"/files/mlrun/data/iteration_results.csv\">iteration_results.csv</div></td>\n",
       "    </tr>\n",
       "  </tbody>\n",
       "</table>\n",
       "</div></div>\n",
       "  <div id=\"result18e2d9a8-pane\" class=\"right-pane block hidden\">\n",
       "    <div class=\"pane-header\">\n",
       "      <span id=\"result18e2d9a8-title\" class=\"pane-header-title\">Title</span>\n",
       "      <span onclick=\"closePanel(this)\" paneName=\"result18e2d9a8\" class=\"close clickable\">&times;</span>\n",
       "    </div>\n",
       "    <iframe class=\"fileview\" id=\"result18e2d9a8-body\"></iframe>\n",
       "  </div>\n",
       "</div>\n"
      ],
      "text/plain": [
       "<IPython.core.display.HTML object>"
      ]
     },
     "metadata": {},
     "output_type": "display_data"
    },
    {
     "name": "stdout",
     "output_type": "stream",
     "text": [
      "type result.show() to see detailed results/progress or use CLI:\n",
      "!mlrun get run --uid 8207961672e2481197020e588abf9cf3 \n",
      "[mlrun] 2019-09-15 22:05:07,906 run executed, status=completed\n",
      "22.6 s ± 0 ns per loop (mean ± std. dev. of 1 run, 1 loop each)\n"
     ]
    }
   ],
   "source": [
    "%%timeit -n 1 -r 1\n",
    "run = new_function().run(task)"
   ]
  },
  {
   "cell_type": "code",
   "execution_count": 36,
   "metadata": {
    "collapsed": true,
    "jupyter": {
     "outputs_hidden": true
    }
   },
   "outputs": [
    {
     "name": "stdout",
     "output_type": "stream",
     "text": [
      "    name    uid                                 iter  start            state      parameters                       results\n",
      "--  ------  --------------------------------  ------  ---------------  ---------  -------------------------------  ---------------------------\n",
      " 0          247d7eb3ffed4f4da69aeb359ed53fe9      96  Sep 15 21:54:44  completed  eta=0.3,max_depth=10,gamma=0.3   accuracy=0.9666666666666667\n",
      " 1          247d7eb3ffed4f4da69aeb359ed53fe9      95  Sep 15 21:54:43  completed  eta=0.2,max_depth=10,gamma=0.3   accuracy=0.9666666666666667\n",
      " 2          247d7eb3ffed4f4da69aeb359ed53fe9      94  Sep 15 21:54:43  completed  eta=0.1,max_depth=10,gamma=0.3   accuracy=0.9666666666666667\n",
      " 3          247d7eb3ffed4f4da69aeb359ed53fe9      93  Sep 15 21:54:43  completed  eta=0.05,max_depth=10,gamma=0.3  accuracy=0.9666666666666667\n",
      " 4          247d7eb3ffed4f4da69aeb359ed53fe9      92  Sep 15 21:54:43  completed  eta=0.3,max_depth=8,gamma=0.3    accuracy=0.9666666666666667\n",
      " 5          247d7eb3ffed4f4da69aeb359ed53fe9      91  Sep 15 21:54:43  completed  eta=0.2,max_depth=8,gamma=0.3    accuracy=0.9666666666666667\n",
      " 6          247d7eb3ffed4f4da69aeb359ed53fe9      90  Sep 15 21:54:42  completed  eta=0.1,max_depth=8,gamma=0.3    accuracy=0.9666666666666667\n",
      " 7          247d7eb3ffed4f4da69aeb359ed53fe9      89  Sep 15 21:54:42  completed  eta=0.05,max_depth=8,gamma=0.3   accuracy=0.9666666666666667\n",
      " 8          247d7eb3ffed4f4da69aeb359ed53fe9      88  Sep 15 21:54:42  completed  eta=0.3,max_depth=6,gamma=0.3    accuracy=0.9666666666666667\n",
      " 9          247d7eb3ffed4f4da69aeb359ed53fe9      87  Sep 15 21:54:42  completed  eta=0.2,max_depth=6,gamma=0.3    accuracy=0.9666666666666667\n",
      "10          247d7eb3ffed4f4da69aeb359ed53fe9      86  Sep 15 21:54:42  completed  eta=0.1,max_depth=6,gamma=0.3    accuracy=0.9666666666666667\n",
      "11          247d7eb3ffed4f4da69aeb359ed53fe9      85  Sep 15 21:54:42  completed  eta=0.05,max_depth=6,gamma=0.3   accuracy=0.9666666666666667\n",
      "12          247d7eb3ffed4f4da69aeb359ed53fe9      84  Sep 15 21:54:41  completed  eta=0.3,max_depth=5,gamma=0.3    accuracy=0.9666666666666667\n",
      "13          247d7eb3ffed4f4da69aeb359ed53fe9      83  Sep 15 21:54:41  completed  eta=0.2,max_depth=5,gamma=0.3    accuracy=0.9666666666666667\n",
      "14          247d7eb3ffed4f4da69aeb359ed53fe9      82  Sep 15 21:54:41  completed  eta=0.1,max_depth=5,gamma=0.3    accuracy=0.9666666666666667\n",
      "15          247d7eb3ffed4f4da69aeb359ed53fe9      81  Sep 15 21:54:41  completed  eta=0.05,max_depth=5,gamma=0.3   accuracy=0.9666666666666667\n",
      "16          247d7eb3ffed4f4da69aeb359ed53fe9      80  Sep 15 21:54:41  completed  eta=0.3,max_depth=4,gamma=0.3    accuracy=0.9666666666666667\n",
      "17          247d7eb3ffed4f4da69aeb359ed53fe9      79  Sep 15 21:54:40  completed  eta=0.2,max_depth=4,gamma=0.3    accuracy=0.9666666666666667\n",
      "18          247d7eb3ffed4f4da69aeb359ed53fe9      78  Sep 15 21:54:40  completed  eta=0.1,max_depth=4,gamma=0.3    accuracy=0.9666666666666667\n",
      "19          247d7eb3ffed4f4da69aeb359ed53fe9      77  Sep 15 21:54:40  completed  eta=0.05,max_depth=4,gamma=0.3   accuracy=0.9666666666666667\n",
      "20          247d7eb3ffed4f4da69aeb359ed53fe9      76  Sep 15 21:54:40  completed  eta=0.3,max_depth=3,gamma=0.3    accuracy=0.9666666666666667\n",
      "21          247d7eb3ffed4f4da69aeb359ed53fe9      75  Sep 15 21:54:40  completed  eta=0.2,max_depth=3,gamma=0.3    accuracy=0.9666666666666667\n",
      "22          247d7eb3ffed4f4da69aeb359ed53fe9      74  Sep 15 21:54:39  completed  eta=0.1,max_depth=3,gamma=0.3    accuracy=0.9666666666666667\n",
      "23          247d7eb3ffed4f4da69aeb359ed53fe9      73  Sep 15 21:54:39  completed  eta=0.05,max_depth=3,gamma=0.3   accuracy=0.9666666666666667\n",
      "24          247d7eb3ffed4f4da69aeb359ed53fe9      72  Sep 15 21:54:39  completed  eta=0.3,max_depth=10,gamma=0.2   accuracy=0.9666666666666667\n",
      "25          247d7eb3ffed4f4da69aeb359ed53fe9      71  Sep 15 21:54:39  completed  eta=0.2,max_depth=10,gamma=0.2   accuracy=0.9666666666666667\n",
      "26          247d7eb3ffed4f4da69aeb359ed53fe9      70  Sep 15 21:54:39  completed  eta=0.1,max_depth=10,gamma=0.2   accuracy=0.9666666666666667\n",
      "27          247d7eb3ffed4f4da69aeb359ed53fe9      69  Sep 15 21:54:38  completed  eta=0.05,max_depth=10,gamma=0.2  accuracy=0.9666666666666667\n",
      "28          247d7eb3ffed4f4da69aeb359ed53fe9      68  Sep 15 21:54:38  completed  eta=0.3,max_depth=8,gamma=0.2    accuracy=0.9666666666666667\n",
      "29          247d7eb3ffed4f4da69aeb359ed53fe9      67  Sep 15 21:54:38  completed  eta=0.2,max_depth=8,gamma=0.2    accuracy=0.9666666666666667\n"
     ]
    }
   ],
   "source": [
    "!mlrun get run --uid 247d7eb3ffed4f4da69aeb359ed53fe9 "
   ]
  },
  {
   "cell_type": "markdown",
   "metadata": {},
   "source": [
    "## Deploy and Run Nuclio Function - configured for paralelism "
   ]
  },
  {
   "cell_type": "code",
   "execution_count": 8,
   "metadata": {},
   "outputs": [
    {
     "data": {
      "text/plain": [
       "<mlrun.runtimes.function.RemoteRuntime at 0x7f6712b54828>"
      ]
     },
     "execution_count": 8,
     "metadata": {},
     "output_type": "execute_result"
    }
   ],
   "source": [
    "# create the function from the notebook code + annotations, add volumes and parallel HTTP trigger\n",
    "fn = code_to_function('xgb_train', runtime='nuclio')\n",
    "fn.add_volume('User','~/').with_http(workers=32)"
   ]
  },
  {
   "cell_type": "code",
   "execution_count": 9,
   "metadata": {},
   "outputs": [
    {
     "name": "stdout",
     "output_type": "stream",
     "text": [
      "[nuclio.deploy] 2019-09-15 22:05:29,726 (info) Building processor image\n",
      "[nuclio.deploy] 2019-09-15 22:06:51,368 (info) Build complete\n",
      "[nuclio.deploy] 2019-09-15 22:06:58,571 done updating xgb-train, function address: 18.221.60.238:32759\n"
     ]
    },
    {
     "data": {
      "text/plain": [
       "'http://18.221.60.238:32759'"
      ]
     },
     "execution_count": 9,
     "metadata": {},
     "output_type": "execute_result"
    }
   ],
   "source": [
    "# deploy the function to the cluster\n",
    "fn.deploy(kind='mlrun')"
   ]
  },
  {
   "cell_type": "code",
   "execution_count": 10,
   "metadata": {},
   "outputs": [
    {
     "name": "stdout",
     "output_type": "stream",
     "text": [
      "[mlrun] 2019-09-15 22:07:43,151 starting run xgb_train uid=37314c602e7a4bf59185efe7f1100624\n"
     ]
    },
    {
     "data": {
      "text/html": [
       "<style> \n",
       ".dictlist {\n",
       "  background-color: #b3edff; \n",
       "  text-align: center; \n",
       "  margin: 4px; \n",
       "  border-radius: 3px; padding: 0px 3px 1px 3px; display: inline-block;}\n",
       ".artifact {\n",
       "  cursor: pointer; \n",
       "  background-color: #ffe6cc; \n",
       "  text-align: left; \n",
       "  margin: 4px; border-radius: 3px; padding: 0px 3px 1px 3px; display: inline-block;\n",
       "}\n",
       "div.block.hidden {\n",
       "  display: none;\n",
       "}\n",
       ".clickable {\n",
       "  cursor: pointer;\n",
       "}\n",
       ".ellipsis {\n",
       "  display: inline-block;\n",
       "  max-width: 60px;\n",
       "  white-space: nowrap;\n",
       "  overflow: hidden;\n",
       "  text-overflow: ellipsis;\n",
       "}\n",
       ".master-wrapper {\n",
       "  display: flex;\n",
       "  flex-flow: row nowrap;\n",
       "  justify-content: flex-start;\n",
       "  align-items: stretch;\n",
       "}\n",
       ".master-tbl {\n",
       "  flex: 3\n",
       "}\n",
       ".master-wrapper > div {\n",
       "  margin: 4px;\n",
       "  padding: 10px;\n",
       "}\n",
       "iframe.fileview {\n",
       "  border: 0 none;\n",
       "  height: 100%;\n",
       "  width: 100%;\n",
       "  white-space: pre-wrap;\n",
       "}\n",
       ".pane-header-title {\n",
       "  width: 80%;\n",
       "  font-weight: 500;\n",
       "}\n",
       ".pane-header {\n",
       "  line-height: 1;\n",
       "  background-color: #ffe6cc;\n",
       "  padding: 3px;\n",
       "}\n",
       ".pane-header .close {\n",
       "  font-size: 20px;\n",
       "  font-weight: 700;\n",
       "  float: right;\n",
       "  margin-top: -5px;\n",
       "}\n",
       ".master-wrapper .right-pane {\n",
       "  border: 1px inset silver;\n",
       "  width: 40%;\n",
       "  min-height: 300px;\n",
       "  flex: 3\n",
       "  min-width: 500px;\n",
       "}\n",
       ".master-wrapper * {\n",
       "  box-sizing: border-box;\n",
       "}\n",
       "</style><script>\n",
       "function copyToClipboard(fld) {\n",
       "    if (document.queryCommandSupported && document.queryCommandSupported('copy')) {\n",
       "        var textarea = document.createElement('textarea');\n",
       "        textarea.textContent = fld.innerHTML;\n",
       "        textarea.style.position = 'fixed';\n",
       "        document.body.appendChild(textarea);\n",
       "        textarea.select();\n",
       "\n",
       "        try {\n",
       "            return document.execCommand('copy'); // Security exception may be thrown by some browsers.\n",
       "        } catch (ex) {\n",
       "\n",
       "        } finally {\n",
       "            document.body.removeChild(textarea);\n",
       "        }\n",
       "    }\n",
       "}\n",
       "function expandPanel(el) {\n",
       "  const panelName = \"#\" + el.getAttribute('paneName');\n",
       "  console.log(el.title);\n",
       "\n",
       "  document.querySelector(panelName + \"-title\").innerHTML = el.title\n",
       "  iframe = document.querySelector(panelName + \"-body\");\n",
       "  \n",
       "  const tblcss = `<style> body { font-family: Arial, Helvetica, sans-serif;}\n",
       "    #csv { margin-bottom: 15px; }\n",
       "    #csv table { border-collapse: collapse;}\n",
       "    #csv table td { padding: 4px 8px; border: 1px solid silver;} </style>`;\n",
       "\n",
       "  function csvToHtmlTable(str) {\n",
       "    return '<div id=\"csv\"><table><tr><td>' +  str.replace(/[\\n\\r]+$/g, '').replace(/[\\n\\r]+/g, '</td></tr><tr><td>')\n",
       "      .replace(/,/g, '</td><td>') + '</td></tr></table></div>';\n",
       "  }\n",
       "  \n",
       "  function reqListener () {\n",
       "    if (el.title.endsWith(\".csv\")) {\n",
       "      iframe.setAttribute(\"srcdoc\", tblcss + csvToHtmlTable(this.responseText));\n",
       "    } else {\n",
       "      iframe.setAttribute(\"srcdoc\", this.responseText);\n",
       "    }  \n",
       "    console.log(this.responseText);\n",
       "  }\n",
       "\n",
       "  const oReq = new XMLHttpRequest();\n",
       "  oReq.addEventListener(\"load\", reqListener);\n",
       "  oReq.open(\"GET\", el.title);\n",
       "  oReq.send();\n",
       "  \n",
       "  \n",
       "  //iframe.src = el.title;\n",
       "  const resultPane = document.querySelector(panelName + \"-pane\");\n",
       "  if (resultPane.classList.contains(\"hidden\")) {\n",
       "    resultPane.classList.remove(\"hidden\");\n",
       "  }\n",
       "}\n",
       "function closePanel(el) {\n",
       "  const panelName = \"#\" + el.getAttribute('paneName')\n",
       "  const resultPane = document.querySelector(panelName + \"-pane\");\n",
       "  if (!resultPane.classList.contains(\"hidden\")) {\n",
       "    resultPane.classList.add(\"hidden\");\n",
       "  }\n",
       "}\n",
       "\n",
       "</script>\n",
       "<div class=\"master-wrapper\">\n",
       "  <div class=\"block master-tbl\"><div>\n",
       "<style scoped>\n",
       "    .dataframe tbody tr th:only-of-type {\n",
       "        vertical-align: middle;\n",
       "    }\n",
       "\n",
       "    .dataframe tbody tr th {\n",
       "        vertical-align: top;\n",
       "    }\n",
       "\n",
       "    .dataframe thead th {\n",
       "        text-align: right;\n",
       "    }\n",
       "</style>\n",
       "<table border=\"1\" class=\"dataframe\">\n",
       "  <thead>\n",
       "    <tr style=\"text-align: right;\">\n",
       "      <th>uid</th>\n",
       "      <th>iter</th>\n",
       "      <th>start</th>\n",
       "      <th>state</th>\n",
       "      <th>name</th>\n",
       "      <th>labels</th>\n",
       "      <th>inputs</th>\n",
       "      <th>parameters</th>\n",
       "      <th>results</th>\n",
       "      <th>artifacts</th>\n",
       "    </tr>\n",
       "  </thead>\n",
       "  <tbody>\n",
       "    <tr>\n",
       "      <td><div title=\"37314c602e7a4bf59185efe7f1100624\">...100624</div></td>\n",
       "      <td>0</td>\n",
       "      <td>Sep 15 22:07:43</td>\n",
       "      <td>completed</td>\n",
       "      <td>xgb_train</td>\n",
       "      <td><div class=\"dictlist\">kind=mlrun</div><div class=\"dictlist\">owner=iguazio</div></td>\n",
       "      <td></td>\n",
       "      <td></td>\n",
       "      <td><div class=\"dictlist\">best_iteration=2</div><div class=\"dictlist\">accuracy=1.0</div></td>\n",
       "      <td><div title=\"/User/mlrun/data/2/iris_v1.bst\">model</div><div class=\"artifact\" onclick=\"expandPanel(this)\" paneName=\"result5cf8bb07\" title=\"/files/mlrun/data/iteration_results.csv\">iteration_results.csv</div></td>\n",
       "    </tr>\n",
       "  </tbody>\n",
       "</table>\n",
       "</div></div>\n",
       "  <div id=\"result5cf8bb07-pane\" class=\"right-pane block hidden\">\n",
       "    <div class=\"pane-header\">\n",
       "      <span id=\"result5cf8bb07-title\" class=\"pane-header-title\">Title</span>\n",
       "      <span onclick=\"closePanel(this)\" paneName=\"result5cf8bb07\" class=\"close clickable\">&times;</span>\n",
       "    </div>\n",
       "    <iframe class=\"fileview\" id=\"result5cf8bb07-body\"></iframe>\n",
       "  </div>\n",
       "</div>\n"
      ],
      "text/plain": [
       "<IPython.core.display.HTML object>"
      ]
     },
     "metadata": {},
     "output_type": "display_data"
    },
    {
     "name": "stdout",
     "output_type": "stream",
     "text": [
      "type result.show() to see detailed results/progress or use CLI:\n",
      "!mlrun get run --uid 37314c602e7a4bf59185efe7f1100624 \n",
      "[mlrun] 2019-09-15 22:07:45,710 run executed, status=completed\n",
      "2.56 s ± 0 ns per loop (mean ± std. dev. of 1 run, 1 loop each)\n"
     ]
    }
   ],
   "source": [
    "%%timeit -n 1 -r 1\n",
    "nrun = fn.run(task, handler='xgb_train')"
   ]
  },
  {
   "cell_type": "markdown",
   "metadata": {},
   "source": [
    "# Nuclio runs 10x faster than local execution"
   ]
  },
  {
   "cell_type": "code",
   "execution_count": null,
   "metadata": {},
   "outputs": [],
   "source": []
  }
 ],
 "metadata": {
  "kernelspec": {
   "display_name": "Python 3",
   "language": "python",
   "name": "python3"
  },
  "language_info": {
   "codemirror_mode": {
    "name": "ipython",
    "version": 3
   },
   "file_extension": ".py",
   "mimetype": "text/x-python",
   "name": "python",
   "nbconvert_exporter": "python",
   "pygments_lexer": "ipython3",
   "version": "3.6.8"
  }
 },
 "nbformat": 4,
 "nbformat_minor": 4
}
