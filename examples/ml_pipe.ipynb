{
 "cells": [
  {
   "cell_type": "markdown",
   "metadata": {},
   "source": [
    "# Creating A Pipeline Using MLRUN"
   ]
  },
  {
   "cell_type": "code",
   "execution_count": 1,
   "metadata": {},
   "outputs": [
    {
     "name": "stdout",
     "output_type": "stream",
     "text": [
      "env: MLRUN_PACKAGE_PATH=git+https://github.com/mlrun/mlrun.git@development\n"
     ]
    }
   ],
   "source": [
    "%env MLRUN_META_DBPATH=/User/mlrun\n",
    "import kfp\n",
    "from kfp import dsl\n",
    "from mlrun import run_start, get_run_db\n",
    "from mlrun.platforms import mount_v3io\n",
    "from mlrun.builder import build_image"
   ]
  },
  {
   "cell_type": "markdown",
   "metadata": {},
   "source": [
    "<b> Test/Debug the code locally, verify its working <b>"
   ]
  },
  {
   "cell_type": "code",
   "execution_count": 2,
   "metadata": {},
   "outputs": [
    {
     "name": "stdout",
     "output_type": "stream",
     "text": [
      "Run: train (uid=980ac78c8ec14654a1587405d8f13ab8)\n",
      "Params: p1=5, p2=a-string\n",
      "accesskey = 1234\n",
      "file\n",
      "b\"i'm a local input file\"\n",
      "\n",
      "\n",
      "Run: train (uid=980ac78c8ec14654a1587405d8f13ab8)\n",
      "Params: p1=5, p2=a-string\n",
      "accesskey = 1234\n",
      "file\n",
      "b\"i'm a local input file\"\n",
      "\n",
      "\n",
      "[mlrun] 2019-09-04 21:24:03,064 run finished, status=completed \n"
     ]
    }
   ],
   "source": [
    "!python -m mlrun run -p p1=5 -s file=secrets.txt --out-path /User/mlrun/ training.py"
   ]
  },
  {
   "cell_type": "markdown",
   "metadata": {},
   "source": [
    "## Build & Run a KubeFlow Pipeline \n",
    "\n",
    "This example is using iguazio shared FS (v3io), the `/User` dir is the \"Home\" for the user and the Jupyter notebook<br>\n",
    "the code is mounted into the pipeline containers (no need to rebuild containers when the code changes and the runtime have access to the user local files)\n",
    "\n",
    "MLRUN has a DB specified in the `db_path` argument (this example is using files to store runs and artifacts)<br>\n",
    "the result artifacts are versioned and stored under the specified location, each workflow have a unique artifacts directory (`/<path>/{{workflow.uid}}/`)\n",
    "\n",
    "Artifact and DB paths can use file paths or URLs for supported datastores (prefixed with s3://, v3io://, ..), <br>\n",
    "Notes: file store artifacts cannot be viewed by KFP (use object URLs), URL based stores may requieres secrets passing "
   ]
  },
  {
   "cell_type": "code",
   "execution_count": 12,
   "metadata": {},
   "outputs": [],
   "source": [
    "this_path = '/User/mlrun'\n",
    "db_path = this_path\n",
    "#artifacts_path = this_path + '/data/{{workflow.uid}}/'\n",
    "artifacts_path = 'v3io:///bigdata/mlrun/{{workflow.uid}}/'\n",
    "image = 'mlrun/mypipe:latest'"
   ]
  },
  {
   "cell_type": "markdown",
   "metadata": {},
   "source": [
    "# Build a container image"
   ]
  },
  {
   "cell_type": "code",
   "execution_count": null,
   "metadata": {},
   "outputs": [],
   "source": [
    "# build an image with MLRUN (dev branch vs master), can add other packages to it \n",
    "# since registry secret was not specified it will push to the local cluster registry \n",
    "build_image(image, base_image='python:3.6')"
   ]
  },
  {
   "cell_type": "markdown",
   "metadata": {},
   "source": [
    "## Example: 2 step workflow (training, validation), with hyper parameters\n",
    "* 1st step: Execute training job with parameters <b>p1</b> and <b>p2</b>, log results and various artifacts including model (see [training.py](training.py))\n",
    "* 2nd step: take the <b>modelfile</b> from the 1st stepand conduct validation (see [validation.py](validation.py))\n",
    "\n",
    "### Building a Pipeline with Hyperparams and Parallel Execution\n",
    "We may want to run the same training job with multiple parameter options, we can lavarage MLRUN paralelism<br>\n",
    ", instead or running each run in a seperate container with extra start and stop times we can use a pool of serverless functions<br>\n",
    "or containers which will run the workload in parallel.\n",
    "\n",
    "We extend our pipeline to use hyper parameters, the training Job will accept a list per parameter and will run all the parameter<br>\n",
    "combinations (GridSearch), involving the fixes parameters `params` and the expended parameters (from `hyperparams`)<br>\n",
    "we can apply a `selector` which will return the best result based on the criteria e.g. `max.accuracy`.\n",
    "\n",
    "Parameter combinations can also be provided using the `param_file` option which reads the parameter values per iteration<br>\n",
    "from a CSV file (where the first row hold the parameter names and following rows hold param values).<br>\n",
    "the use of `hyperparams` and `param_file` can be extended to many tasks including data and ETL tasks<br>\n",
    "e.g. create a list of text or image file paths in a CSV file and run a step which process all those files in paralell. "
   ]
  },
  {
   "cell_type": "code",
   "execution_count": 7,
   "metadata": {},
   "outputs": [],
   "source": [
    "# run training using params p1 and p2, generate 2 registered outputs (model, dataset) to be listed in the pipeline UI\n",
    "# user can specify the target path per output e.g. 'model.txt':'<some-path>', or leave blank to use the default out_path\n",
    "def mlrun_train(p1, p2):\n",
    "    return mlrun_op('training', \n",
    "                    image = image,\n",
    "                    command = this_path + '/training.py', \n",
    "                    params = {'p2':p2},\n",
    "                    hyperparams = {'p1': p1},\n",
    "                    selector = 'max.accuracy',\n",
    "                    in_path='/User/mlrun',\n",
    "                    outputs = {'model.txt':'', 'dataset.csv':''},\n",
    "                    out_path = artifacts_path)\n",
    "                    \n",
    "# use data (model) from the first step as an input\n",
    "def mlrun_validate(modelfile):\n",
    "    return mlrun_op('validation', \n",
    "                    image = image,\n",
    "                    command = this_path + '/validation.py', \n",
    "                    inputs = {'model.txt':modelfile},\n",
    "                    in_path='/User/mlrun',\n",
    "                    out_path = artifacts_path)"
   ]
  },
  {
   "cell_type": "markdown",
   "metadata": {},
   "source": [
    "<b> Create a Kubeflow Pipelines DSL (execution graph/DAG)</b>"
   ]
  },
  {
   "cell_type": "code",
   "execution_count": 8,
   "metadata": {},
   "outputs": [],
   "source": [
    "@dsl.pipeline(\n",
    "    name='My MLRUN pipeline',\n",
    "    description='Shows how to use mlrun.'\n",
    ")\n",
    "def mlrun_pipeline(\n",
    "   p1 = [5, 6, 2] , p2 = '\"text\"'\n",
    "):\n",
    "    # create a train step, apply v3io mount to it (will add the /User mount to the container)\n",
    "    train = mlrun_train(p1, p2).apply(mount_v3io())\n",
    "    \n",
    "    # feed 1st step results into the secound step\n",
    "    # Note: the '.' in model.txt must be substituted with '-'\n",
    "    validate = mlrun_validate(train.outputs['model-txt']).apply(mount_v3io())"
   ]
  },
  {
   "cell_type": "markdown",
   "metadata": {},
   "source": [
    "<b> Create a KFP client, Experiment and run the pipeline with custom parameter </b>"
   ]
  },
  {
   "cell_type": "code",
   "execution_count": 7,
   "metadata": {},
   "outputs": [
    {
     "data": {
      "text/html": [
       "Experiment link <a href=\"/pipeline/#/experiments/details/43c43a0c-c2f1-4537-ad48-aac05b536580\" target=\"_blank\" >here</a>"
      ],
      "text/plain": [
       "<IPython.core.display.HTML object>"
      ]
     },
     "metadata": {},
     "output_type": "display_data"
    },
    {
     "data": {
      "text/html": [
       "Run link <a href=\"/pipeline/#/runs/details/c1a3a24f-cf60-11e9-b678-025ac275bd0c\" target=\"_blank\" >here</a>"
      ],
      "text/plain": [
       "<IPython.core.display.HTML object>"
      ]
     },
     "metadata": {},
     "output_type": "display_data"
    }
   ],
   "source": [
    "client = kfp.Client(namespace='default-tenant')\n",
    "arguments = {'p1': [5, 7, 3]}\n",
    "run_result = client.create_run_from_pipeline_func(mlrun_pipeline, arguments, run_name='mlrun demo 1', experiment_name='mlrun demo')\n",
    "\n",
    "# for debug you can see the pipeline as a yaml file, use\n",
    "# kfp.compiler.Compiler().compile(mlrun_pipeline, 'mlrunpipe.yaml')"
   ]
  },
  {
   "cell_type": "markdown",
   "metadata": {},
   "source": [
    "<b> See the run status and results in the run database </b>"
   ]
  },
  {
   "cell_type": "code",
   "execution_count": 11,
   "metadata": {},
   "outputs": [],
   "source": [
    "# connect to the run db \n",
    "db = get_run_db(db_path).connect()"
   ]
  },
  {
   "cell_type": "code",
   "execution_count": 17,
   "metadata": {},
   "outputs": [
    {
     "data": {
      "text/html": [
       "<style> \n",
       ".dictlist {\n",
       "  background-color: #b3edff; \n",
       "  text-align: center; \n",
       "  margin: 4px; \n",
       "  border-radius: 3px; padding: 0px 3px 1px 3px; display: inline-block;}\n",
       ".artifact {\n",
       "  cursor: pointer; \n",
       "  background-color: #ffe6cc; \n",
       "  text-align: left; \n",
       "  margin: 4px; border-radius: 3px; padding: 0px 3px 1px 3px; display: inline-block;\n",
       "}\n",
       "div.block.hidden {\n",
       "  display: none;\n",
       "}\n",
       ".clickable {\n",
       "  cursor: pointer;\n",
       "}\n",
       ".ellipsis {\n",
       "  display: inline-block;\n",
       "  max-width: 60px;\n",
       "  white-space: nowrap;\n",
       "  overflow: hidden;\n",
       "  text-overflow: ellipsis;\n",
       "}\n",
       ".master-wrapper {\n",
       "  display: flex;\n",
       "  flex-flow: row nowrap;\n",
       "  justify-content: flex-start;\n",
       "  align-items: stretch;\n",
       "}\n",
       ".master-tbl {\n",
       "  flex: 3\n",
       "}\n",
       ".master-wrapper > div {\n",
       "  margin: 4px;\n",
       "  padding: 10px;\n",
       "}\n",
       "iframe.fileview {\n",
       "  border: 0 none;\n",
       "  height: 100%;\n",
       "  width: 100%;\n",
       "  white-space: pre-wrap;\n",
       "}\n",
       ".pane-header-title {\n",
       "  width: 80%;\n",
       "  font-weight: 500;\n",
       "}\n",
       ".pane-header {\n",
       "  line-height: 1;\n",
       "  background-color: #ffe6cc;\n",
       "  padding: 3px;\n",
       "}\n",
       ".pane-header .close {\n",
       "  font-size: 20px;\n",
       "  font-weight: 700;\n",
       "  float: right;\n",
       "  margin-top: -5px;\n",
       "}\n",
       ".master-wrapper .right-pane {\n",
       "  border: 1px inset silver;\n",
       "  width: 40%;\n",
       "  min-height: 300px;\n",
       "  flex: 3\n",
       "  min-width: 500px;\n",
       "}\n",
       ".master-wrapper * {\n",
       "  box-sizing: border-box;\n",
       "}\n",
       "</style><script>\n",
       "function copyToClipboard(fld) {\n",
       "    if (document.queryCommandSupported && document.queryCommandSupported('copy')) {\n",
       "        var textarea = document.createElement('textarea');\n",
       "        textarea.textContent = fld.innerHTML;\n",
       "        textarea.style.position = 'fixed';\n",
       "        document.body.appendChild(textarea);\n",
       "        textarea.select();\n",
       "\n",
       "        try {\n",
       "            return document.execCommand('copy'); // Security exception may be thrown by some browsers.\n",
       "        } catch (ex) {\n",
       "\n",
       "        } finally {\n",
       "            document.body.removeChild(textarea);\n",
       "        }\n",
       "    }\n",
       "}\n",
       "function expandPanel(el) {\n",
       "  const panelName = \"#\" + el.getAttribute('paneName');\n",
       "  console.log(el.title);\n",
       "\n",
       "  document.querySelector(panelName + \"-title\").innerHTML = el.title\n",
       "  iframe = document.querySelector(panelName + \"-body\");\n",
       "  \n",
       "  const tblcss = `<style> body { font-family: Arial, Helvetica, sans-serif;}\n",
       "    #csv { margin-bottom: 15px; }\n",
       "    #csv table { border-collapse: collapse;}\n",
       "    #csv table td { padding: 4px 8px; border: 1px solid silver;} </style>`;\n",
       "\n",
       "  function csvToHtmlTable(str) {\n",
       "    return '<div id=\"csv\"><table><tr><td>' +  str.replace(/[\\n\\r]+$/g, '').replace(/[\\n\\r]+/g, '</td></tr><tr><td>')\n",
       "      .replace(/,/g, '</td><td>') + '</td></tr></table></div>';\n",
       "  }\n",
       "  \n",
       "  function reqListener () {\n",
       "    if (el.title.endsWith(\".csv\")) {\n",
       "      iframe.setAttribute(\"srcdoc\", tblcss + csvToHtmlTable(this.responseText));\n",
       "    } else {\n",
       "      iframe.setAttribute(\"srcdoc\", this.responseText);\n",
       "    }  \n",
       "    console.log(this.responseText);\n",
       "  }\n",
       "\n",
       "  const oReq = new XMLHttpRequest();\n",
       "  oReq.addEventListener(\"load\", reqListener);\n",
       "  oReq.open(\"GET\", el.title);\n",
       "  oReq.send();\n",
       "  \n",
       "  \n",
       "  //iframe.src = el.title;\n",
       "  const resultPane = document.querySelector(panelName + \"-pane\");\n",
       "  if (resultPane.classList.contains(\"hidden\")) {\n",
       "    resultPane.classList.remove(\"hidden\");\n",
       "  }\n",
       "}\n",
       "function closePanel(el) {\n",
       "  const panelName = \"#\" + el.getAttribute('paneName')\n",
       "  const resultPane = document.querySelector(panelName + \"-pane\");\n",
       "  if (!resultPane.classList.contains(\"hidden\")) {\n",
       "    resultPane.classList.add(\"hidden\");\n",
       "  }\n",
       "}\n",
       "\n",
       "</script>\n",
       "<div class=\"master-wrapper\">\n",
       "  <div class=\"block master-tbl\"><div>\n",
       "<style scoped>\n",
       "    .dataframe tbody tr th:only-of-type {\n",
       "        vertical-align: middle;\n",
       "    }\n",
       "\n",
       "    .dataframe tbody tr th {\n",
       "        vertical-align: top;\n",
       "    }\n",
       "\n",
       "    .dataframe thead th {\n",
       "        text-align: right;\n",
       "    }\n",
       "</style>\n",
       "<table border=\"1\" class=\"dataframe\">\n",
       "  <thead>\n",
       "    <tr style=\"text-align: right;\">\n",
       "      <th>uid</th>\n",
       "      <th>iter</th>\n",
       "      <th>start</th>\n",
       "      <th>state</th>\n",
       "      <th>name</th>\n",
       "      <th>labels</th>\n",
       "      <th>inputs</th>\n",
       "      <th>parameters</th>\n",
       "      <th>results</th>\n",
       "      <th>artifacts</th>\n",
       "    </tr>\n",
       "  </thead>\n",
       "  <tbody>\n",
       "    <tr>\n",
       "      <td><div title=\"ad028562aedb4967951740d7bed6e7b3\">...d6e7b3</div></td>\n",
       "      <td>0</td>\n",
       "      <td>Sep 01 23:26:43</td>\n",
       "      <td>completed</td>\n",
       "      <td>validation</td>\n",
       "      <td><div class=\"dictlist\">workflow=c43690c7-0854-4bd2-b96b-24bbf3926246</div><div class=\"dictlist\">kind=local</div><div class=\"dictlist\">owner=root</div><div class=\"dictlist\">host=my-mlrun-pipeline-zrh6n-1045808081</div></td>\n",
       "      <td><div class=\"artifact\" onclick=\"expandPanel(this)\" paneName=\"result6b4b2a4d\" title=\"files/v3io/bigdata/mlrun/c43690c7-0854-4bd2-b96b-24bbf3926246/model.txt\">model.txt</div></td>\n",
       "      <td></td>\n",
       "      <td></td>\n",
       "      <td><div class=\"artifact\" onclick=\"expandPanel(this)\" paneName=\"result6b4b2a4d\" title=\"files/v3io/bigdata/mlrun/c43690c7-0854-4bd2-b96b-24bbf3926246/validation.html\">validation.html</div></td>\n",
       "    </tr>\n",
       "    <tr>\n",
       "      <td><div title=\"45a4e050ab7f48a7ba2f388eda1bd295\">...1bd295</div></td>\n",
       "      <td>0</td>\n",
       "      <td>Sep 01 23:26:34</td>\n",
       "      <td>completed</td>\n",
       "      <td>training</td>\n",
       "      <td><div class=\"dictlist\">workflow=c43690c7-0854-4bd2-b96b-24bbf3926246</div><div class=\"dictlist\">kind=local</div><div class=\"dictlist\">owner=root</div><div class=\"dictlist\">host=my-mlrun-pipeline-zrh6n-1669727288</div><div class=\"dictlist\">framework=sklearn</div></td>\n",
       "      <td><div class=\"artifact\" onclick=\"expandPanel(this)\" paneName=\"result6b4b2a4d\" title=\"/files/mlrun/infile.txt\">infile.txt</div></td>\n",
       "      <td><div class=\"dictlist\">p1=4</div><div class=\"dictlist\">p2=text</div></td>\n",
       "      <td><div class=\"dictlist\">accuracy=8</div><div class=\"dictlist\">loss=12</div></td>\n",
       "      <td><div class=\"artifact\" onclick=\"expandPanel(this)\" paneName=\"result6b4b2a4d\" title=\"files/v3io/bigdata/mlrun/c43690c7-0854-4bd2-b96b-24bbf3926246/model.txt\">model.txt</div><div class=\"artifact\" onclick=\"expandPanel(this)\" paneName=\"result6b4b2a4d\" title=\"files/v3io/bigdata/mlrun/c43690c7-0854-4bd2-b96b-24bbf3926246/results.html\">results.html</div><div class=\"artifact\" onclick=\"expandPanel(this)\" paneName=\"result6b4b2a4d\" title=\"files/v3io/bigdata/mlrun/c43690c7-0854-4bd2-b96b-24bbf3926246/dataset.csv\">dataset.csv</div><div class=\"artifact\" onclick=\"expandPanel(this)\" paneName=\"result6b4b2a4d\" title=\"files/v3io/bigdata/mlrun/c43690c7-0854-4bd2-b96b-24bbf3926246/chart.html\">chart.html</div></td>\n",
       "    </tr>\n",
       "  </tbody>\n",
       "</table>\n",
       "</div></div>\n",
       "  <div id=\"result6b4b2a4d-pane\" class=\"right-pane block hidden\">\n",
       "    <div class=\"pane-header\">\n",
       "      <span id=\"result6b4b2a4d-title\" class=\"pane-header-title\">Title</span>\n",
       "      <span onclick=\"closePanel(this)\" paneName=\"result6b4b2a4d\" class=\"close clickable\">&times;</span>\n",
       "    </div>\n",
       "    <iframe class=\"fileview\" id=\"result6b4b2a4d-body\"></iframe>\n",
       "  </div>\n",
       "</div>\n"
      ],
      "text/plain": [
       "<IPython.core.display.HTML object>"
      ]
     },
     "metadata": {},
     "output_type": "display_data"
    }
   ],
   "source": [
    "# query the DB with filter on workflow ID (only show this workflow) \n",
    "db.list_runs('', labels=f'workflow={run_result.run_id}').show()"
   ]
  },
  {
   "cell_type": "code",
   "execution_count": null,
   "metadata": {},
   "outputs": [],
   "source": []
  }
 ],
 "metadata": {
  "kernelspec": {
   "display_name": "Python 3",
   "language": "python",
   "name": "python3"
  },
  "language_info": {
   "codemirror_mode": {
    "name": "ipython",
    "version": 3
   },
   "file_extension": ".py",
   "mimetype": "text/x-python",
   "name": "python",
   "nbconvert_exporter": "python",
   "pygments_lexer": "ipython3",
   "version": "3.6.8"
  }
 },
 "nbformat": 4,
 "nbformat_minor": 4
}
